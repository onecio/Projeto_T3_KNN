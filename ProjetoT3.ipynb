{
  "nbformat": 4,
  "nbformat_minor": 0,
  "metadata": {
    "colab": {
      "provenance": [],
      "mount_file_id": "1pr1eMzze2j_zJjW9GwK6JC6nTMRjklvU",
      "authorship_tag": "ABX9TyN6yj5hV1grbDYq2Znbc9Zp",
      "include_colab_link": true
    },
    "kernelspec": {
      "name": "python3",
      "display_name": "Python 3"
    },
    "language_info": {
      "name": "python"
    }
  },
  "cells": [
    {
      "cell_type": "markdown",
      "metadata": {
        "id": "view-in-github",
        "colab_type": "text"
      },
      "source": [
        "<a href=\"https://colab.research.google.com/github/onecio/Projeto_T3_KNN/blob/main/ProjetoT3.ipynb\" target=\"_parent\"><img src=\"https://colab.research.google.com/assets/colab-badge.svg\" alt=\"Open In Colab\"/></a>"
      ]
    },
    {
      "cell_type": "markdown",
      "source": [
        "## **Projeto T3 - KNN**"
      ],
      "metadata": {
        "id": "GwjbZiNJ9a8M"
      }
    },
    {
      "cell_type": "code",
      "source": [
        "# Importação das bibliotecas\n",
        "import pandas as pd\n",
        "import numpy as np\n",
        "import matplotlib.pyplot as plt\n",
        "import seaborn as sns\n",
        "from sklearn.preprocessing import StandardScaler\n",
        "from sklearn.model_selection import train_test_split, GridSearchCV\n",
        "from sklearn.neighbors import KNeighborsRegressor\n",
        "from sklearn.metrics import mean_absolute_error, mean_squared_error"
      ],
      "metadata": {
        "id": "QGFzBzll2Tlr"
      },
      "execution_count": 55,
      "outputs": []
    },
    {
      "cell_type": "code",
      "source": [
        "# importação dos dados\n",
        "data = pd.read_csv('insta.csv')"
      ],
      "metadata": {
        "id": "X4AokZ053L9K"
      },
      "execution_count": 56,
      "outputs": []
    },
    {
      "cell_type": "code",
      "source": [
        "# Visualização das primeiras linhas\n",
        "print(data.head())\n",
        "\n",
        "# Informações resumidas sobre os dados\n",
        "print(data.describe())\n",
        "\n",
        "# Verificação dos tipos de dados\n",
        "print(data.dtypes)\n",
        "\n",
        "# Análise de correlação\n",
        "plt.figure(figsize=(10, 8))\n",
        "sns.heatmap(correlation_matrix, annot=True)\n",
        "plt.show()\n",
        "\n",
        "# Visualização da distribuição das variáveis numéricas\n",
        "numeric_columns = data.select_dtypes(include=['number'])\n",
        "sns.pairplot(numeric_columns)\n",
        "plt.show()"
      ],
      "metadata": {
        "id": "eB8KQubB3WYq"
      },
      "execution_count": null,
      "outputs": []
    },
    {
      "cell_type": "code",
      "source": [
        "# Tratamento de valores ausentes\n",
        "data.dropna(inplace=True)\n",
        "\n",
        "# Transformação da coluna 'country' em faixas numéricas\n",
        "data['country'] = data['country'].replace({'América do Sul': 1, 'América do Norte': 2, 'Europa': 3,\n",
        "                                          'Ásia': 4, 'Oceania': 5, 'África': 6})\n",
        "\n",
        "# Normalização dos dados\n",
        "scaler = StandardScaler()\n",
        "numeric_cols = ['followers', 'avg_likes', 'total_likes']\n",
        "data[numeric_cols] = scaler.fit_transform(data[numeric_cols])\n",
        "\n",
        "# Definição das variáveis independentes (X) e dependente (y)\n",
        "X = data.drop(['rank', 'influence_score'], axis=1)\n",
        "y = data['influence_score']"
      ],
      "metadata": {
        "id": "d5rOxn3z3j5E"
      },
      "execution_count": null,
      "outputs": []
    },
    {
      "cell_type": "code",
      "source": [
        "# Divisão dos Dados em Treino e Teste\n",
        "X_train, X_test, y_train, y_test = train_test_split(X, y, test_size=0.2, random_state=42)"
      ],
      "metadata": {
        "id": "BF-JU0Qk3viS"
      },
      "execution_count": 60,
      "outputs": []
    },
    {
      "cell_type": "code",
      "source": [
        "# Criação do modelo kNN\n",
        "knn = KNeighborsRegressor()\n",
        "\n",
        "# Definição dos parâmetros a serem otimizados\n",
        "param_grid = {'n_neighbors': np.arange(1, 21), 'metric': ['euclidean', 'manhattan']}\n",
        "\n",
        "# Utilização de GridSearchCV para encontrar os melhores parâmetros\n",
        "grid = GridSearchCV(knn, param_grid, cv=5)\n",
        "grid.fit(X_train, y_train)\n",
        "\n",
        "# Melhor modelo\n",
        "print(grid.best_params_)"
      ],
      "metadata": {
        "id": "KMVmfETC34Fl"
      },
      "execution_count": null,
      "outputs": []
    },
    {
      "cell_type": "code",
      "source": [
        "# Previsões com o melhor modelo\n",
        "y_pred = grid.best_estimator_.predict(X_test)\n",
        "\n",
        "# Métricas de avaliação\n",
        "print('MAE:', mean_absolute_error(y_test, y_pred))\n",
        "print('MSE:', mean_squared_error(y_test, y_pred))\n",
        "print('RMSE:',\n",
        "np.sqrt(mean_squared_error(y_test, y_pred)))"
      ],
      "metadata": {
        "id": "y5inj2DC38C2"
      },
      "execution_count": null,
      "outputs": []
    },
    {
      "cell_type": "code",
      "source": [
        "# Gráfico de dispersão de followers vs avg_likes\n",
        "sns.scatterplot(x='followers', y='avg_likes', data=data)\n",
        "plt.show()\n",
        "\n",
        "# Gráfico de barras comparando rank com influence_score\n",
        "sns.barplot(x='rank', y='influence_score', data=data)\n",
        "plt.show()"
      ],
      "metadata": {
        "id": "sAaSa6KS4PNA"
      },
      "execution_count": null,
      "outputs": []
    }
  ]
}